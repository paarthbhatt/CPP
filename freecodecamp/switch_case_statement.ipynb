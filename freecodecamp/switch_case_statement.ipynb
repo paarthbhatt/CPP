{
 "cells": [
  {
   "cell_type": "markdown",
   "metadata": {},
   "source": [
    "# Python/Java/C++ Switch Case statement\n"
   ]
  },
  {
   "cell_type": "markdown",
   "metadata": {},
   "source": [
    "## Given an integer choice denoting the choice of the user and a list containing the single value R or two values L and B depending on the choice.\n",
    "### If the user's choice is 1, calculate the area of the circle having the given radius(R).  \n",
    "### Else if the choice is 2, calculate the area of the rectangle with the given length(L) and breadth(B).\n",
    "\n",
    "### Note : A list arr[], containing the single value R or the two values L and B, as input parameters. Return the area of the desired geometrical figure. Use Math.PI for the value of pi."
   ]
  },
  {
   "cell_type": "code",
   "execution_count": 3,
   "metadata": {},
   "outputs": [],
   "source": [
    "import math\n",
    "class Solution:\n",
    "    def switchCase(self, choice, arr):\n",
    "        # Code here\n",
    "        pi_value = math.pi\n",
    "        if choice == 1 :\n",
    "           return((pi_value)*arr[0]*arr[0]);\n",
    "        else :\n",
    "           return((arr[0]*arr[1]));"
   ]
  }
 ],
 "metadata": {
  "kernelspec": {
   "display_name": "Python 3",
   "language": "python",
   "name": "python3"
  },
  "language_info": {
   "codemirror_mode": {
    "name": "ipython",
    "version": 3
   },
   "file_extension": ".py",
   "mimetype": "text/x-python",
   "name": "python",
   "nbconvert_exporter": "python",
   "pygments_lexer": "ipython3",
   "version": "3.12.3"
  }
 },
 "nbformat": 4,
 "nbformat_minor": 2
}
