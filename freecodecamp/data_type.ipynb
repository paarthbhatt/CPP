{
 "cells": [
  {
   "cell_type": "markdown",
   "metadata": {},
   "source": [
    "# Question: \n",
    "### Complete the function dataTypeSize() which takes a string as input and returns the size of the data type represented by the given string in byte unit.\n",
    "### Return -1 if the input data type is invalid."
   ]
  },
  {
   "cell_type": "code",
   "execution_count": 1,
   "metadata": {},
   "outputs": [],
   "source": [
    "#User function Template for python3\n",
    "\n",
    "class Solution:\n",
    "    def dataTypeSize(self, str):\n",
    "        # Code here\n",
    "        if str== 'Character':\n",
    "            return 1\n",
    "        elif str == 'Integer' or str == 'Float':\n",
    "            return 4\n",
    "        elif str == 'Long' or str == 'Double':\n",
    "            return 8\n",
    "        else:\n",
    "            return -1"
   ]
  },
  {
   "cell_type": "markdown",
   "metadata": {},
   "source": [
    "I'll explain the code from the data_type.ipynb file:\n",
    "\n",
    "# Code Explanation\n",
    "\n",
    "This is a Python class solution that determines the size (in bytes) of different data types. Let's break it down:\n",
    "\n",
    "```python\n",
    "class Solution:\n",
    "    def dataTypeSize(self, str):\n",
    "        # Input: A string representing a data type\n",
    "        # Output: Returns the size in bytes for that data type\n",
    "        \n",
    "        if str == 'Character':\n",
    "            return 1  # Character takes 1 byte\n",
    "            \n",
    "        elif str == 'Integer' or str == 'Float':\n",
    "            return 4  # Both Integer and Float take 4 bytes\n",
    "            \n",
    "        elif str == 'Long' or str == 'Double':\n",
    "            return 8  # Both Long and Double take 8 bytes\n",
    "            \n",
    "        else:\n",
    "            return -1  # Invalid data type\n",
    "```\n",
    "\n",
    "## Detailed Breakdown:\n",
    "\n",
    "1. **Function Input**:\n",
    "   - Takes a string parameter that represents a data type name\n",
    "\n",
    "2. **Size Mappings**:\n",
    "   - `Character`: 1 byte\n",
    "   - `Integer`: 4 bytes\n",
    "   - `Float`: 4 bytes\n",
    "   - `Long`: 8 bytes\n",
    "   - `Double`: 8 bytes\n",
    "\n",
    "3. **Logic Flow**:\n",
    "   - Uses if-elif-else statements to check the input string\n",
    "   - Returns the corresponding size for valid data types\n",
    "   - Returns -1 for any invalid/unrecognized data type\n",
    "\n",
    "4. **Common Data Type Sizes**:\n",
    "   - The sizes match standard data type sizes in many programming languages:\n",
    "     - Characters typically use 1 byte for ASCII\n",
    "     - Integers and Floats commonly use 4 bytes (32 bits)\n",
    "     - Long integers and Double precision floats use 8 bytes (64 bits)\n",
    "\n",
    "This code is likely used as part of a larger system to determine memory allocation or for educational purposes to teach about data type sizes in programming.\n"
   ]
  }
 ],
 "metadata": {
  "kernelspec": {
   "display_name": "Python 3",
   "language": "python",
   "name": "python3"
  },
  "language_info": {
   "codemirror_mode": {
    "name": "ipython",
    "version": 3
   },
   "file_extension": ".py",
   "mimetype": "text/x-python",
   "name": "python",
   "nbconvert_exporter": "python",
   "pygments_lexer": "ipython3",
   "version": "3.12.3"
  }
 },
 "nbformat": 4,
 "nbformat_minor": 2
}
